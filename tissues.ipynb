{
 "cells": [
  {
   "cell_type": "markdown",
   "metadata": {},
   "source": [
    "# Parsing the TISSUES resource\n",
    "\n",
    "The TISSUES databse contains tissue-specific gene presence. For more information, see the TISSUES [publication](https://dx.doi.org/10.7717/peerj.1054) or [website](http://tissues.jensenlab.org/Downloads)."
   ]
  },
  {
   "cell_type": "code",
   "execution_count": 7,
   "metadata": {
    "collapsed": false
   },
   "outputs": [
    {
     "name": "stdout",
     "output_type": "stream",
     "text": [
      "2015-08-07 11:41:05 URL:http://download.jensenlab.org//human_tissue_knowledge_filtered.tsv [4031777/4031777] -> \"download/human_tissue_knowledge_filtered.tsv\" [1]\n",
      "2015-08-07 11:41:12 URL:http://download.jensenlab.org//human_tissue_knowledge_full.tsv [22905062/22905062] -> \"download/human_tissue_knowledge_full.tsv\" [1]\n",
      "2015-08-07 11:41:27 URL:http://download.jensenlab.org//human_tissue_experiments_filtered.tsv [116379360/116379360] -> \"download/human_tissue_experiments_filtered.tsv\" [1]\n",
      "2015-08-07 11:42:04 URL:http://download.jensenlab.org//human_tissue_experiments_full.tsv [413673111/413673111] -> \"download/human_tissue_experiments_full.tsv\" [1]\n",
      "2015-08-07 11:42:18 URL:http://download.jensenlab.org//human_tissue_textmining_filtered.tsv [8812695/8812695] -> \"download/human_tissue_textmining_filtered.tsv\" [1]\n",
      "2015-08-07 11:42:38 URL:http://download.jensenlab.org//human_tissue_textmining_full.tsv [218252178/218252178] -> \"download/human_tissue_textmining_full.tsv\" [1]\n",
      "2015-08-07 11:43:02 URL:http://download.jensenlab.org//human_tissue_integrated_full.tsv [182625056/182625056] -> \"download/human_tissue_integrated_full.tsv\" [1]\n"
     ]
    }
   ],
   "source": [
    "# base_url = 'http://download.jensenlab.org/'\n",
    "# filenames = [\n",
    "#     'human_tissue_knowledge_filtered.tsv',\n",
    "#     'human_tissue_knowledge_full.tsv',\n",
    "#     'human_tissue_experiments_filtered.tsv',\n",
    "#     'human_tissue_experiments_full.tsv',\n",
    "#     'human_tissue_textmining_filtered.tsv',\n",
    "#     'human_tissue_textmining_full.tsv',\n",
    "#     'human_tissue_integrated_full.tsv',\n",
    "# ]\n",
    "\n",
    "# for filename in filenames:\n",
    "#     ! wget --no-verbose --timestamping --directory-prefix download/ {base_url}/{filename}\n",
    "#     ! gzip -f download/{filename}"
   ]
  },
  {
   "cell_type": "code",
   "execution_count": 52,
   "metadata": {
    "collapsed": true
   },
   "outputs": [],
   "source": [
    "import gzip\n",
    "\n",
    "import pandas\n",
    "import pyensembl\n",
    "import seaborn\n",
    "\n",
    "%matplotlib inline"
   ]
  },
  {
   "cell_type": "markdown",
   "metadata": {},
   "source": [
    "## terminology mappings"
   ]
  },
  {
   "cell_type": "code",
   "execution_count": 9,
   "metadata": {
    "collapsed": false
   },
   "outputs": [],
   "source": [
    "# Read BTO to Uberon cross-references\n",
    "url = 'https://raw.githubusercontent.com/dhimmel/uberon/e8dd9247779ba9c419e74ca4ae62e44df92657c3/data/xref.tsv'\n",
    "uberon_map_df = pandas.read_table(url)\n",
    "uberon_map_df = uberon_map_df[uberon_map_df.xref.str.startswith('BTO:')]\n",
    "uberon_map_df = uberon_map_df.rename(columns={'xref': 'bto_id'})"
   ]
  },
  {
   "cell_type": "code",
   "execution_count": 30,
   "metadata": {
    "collapsed": false
   },
   "outputs": [
    {
     "data": {
      "text/html": [
       "<div>\n",
       "<table border=\"1\" class=\"dataframe\">\n",
       "  <thead>\n",
       "    <tr style=\"text-align: right;\">\n",
       "      <th></th>\n",
       "      <th>entrez_gene_id</th>\n",
       "      <th>ensembl_gene_id</th>\n",
       "    </tr>\n",
       "  </thead>\n",
       "  <tbody>\n",
       "    <tr>\n",
       "      <th>2</th>\n",
       "      <td>1</td>\n",
       "      <td>ENSG00000121410</td>\n",
       "    </tr>\n",
       "    <tr>\n",
       "      <th>7</th>\n",
       "      <td>2</td>\n",
       "      <td>ENSG00000175899</td>\n",
       "    </tr>\n",
       "    <tr>\n",
       "      <th>11</th>\n",
       "      <td>3</td>\n",
       "      <td>ENSG00000256069</td>\n",
       "    </tr>\n",
       "    <tr>\n",
       "      <th>14</th>\n",
       "      <td>9</td>\n",
       "      <td>ENSG00000171428</td>\n",
       "    </tr>\n",
       "    <tr>\n",
       "      <th>19</th>\n",
       "      <td>10</td>\n",
       "      <td>ENSG00000156006</td>\n",
       "    </tr>\n",
       "  </tbody>\n",
       "</table>\n",
       "</div>"
      ],
      "text/plain": [
       "    entrez_gene_id  ensembl_gene_id\n",
       "2                1  ENSG00000121410\n",
       "7                2  ENSG00000175899\n",
       "11               3  ENSG00000256069\n",
       "14               9  ENSG00000171428\n",
       "19              10  ENSG00000156006"
      ]
     },
     "execution_count": 30,
     "metadata": {},
     "output_type": "execute_result"
    }
   ],
   "source": [
    "# Read entrez gene mappings\n",
    "url = 'https://raw.githubusercontent.com/dhimmel/entrez-gene/6e133f9ef8ce51a4c5387e58a6cc97564a66cec8/data/xrefs-human.tsv'\n",
    "entrez_map_df = pandas.read_table(url)    \n",
    "entrez_map_df = entrez_map_df[entrez_map_df.resource == 'Ensembl']\n",
    "column_map = {'identifier': 'ensembl_gene_id', 'GeneID': 'entrez_gene_id'}\n",
    "entrez_map_df = entrez_map_df.rename(columns=column_map)[list(column_map.values())]\n",
    "entrez_map_df.head()"
   ]
  },
  {
   "cell_type": "code",
   "execution_count": 31,
   "metadata": {
    "collapsed": false
   },
   "outputs": [],
   "source": [
    "# load pyensembl\n",
    "ensembl = pyensembl.EnsemblRelease(79)\n",
    "\n",
    "def map_ensembl(ensembl_protein_ids):\n",
    "    \"\"\"Returns a dataframe mapping ensembl_protein_ids to entrez_gene_ids.\"\"\"\n",
    "    ensembl_proteins = {x for x in ensembl_protein_ids if x.startswith('ENSP')}\n",
    "    rows = []\n",
    "\n",
    "    for ensembl_protein in ensembl_proteins:\n",
    "        try:\n",
    "            ensembl_gene = ensembl.gene_id_of_protein_id(ensembl_protein)\n",
    "        except ValueError:\n",
    "            continue\n",
    "        rows.append((ensembl_gene, ensembl_protein))\n",
    "    \n",
    "    ensembl_df = pandas.DataFrame(rows, columns = ['ensembl_gene_id', 'ensembl_protein_id'])\n",
    "    map_df = entrez_map_df.merge(ensembl_df)[['entrez_gene_id', 'ensembl_protein_id']]\n",
    "    map_df = map_df.drop_duplicates()\n",
    "    return map_df"
   ]
  },
  {
   "cell_type": "markdown",
   "metadata": {},
   "source": [
    "## dataset formats\n",
    "\n",
    "Correspondence from Lars Juhl Jensen:\n",
    "\n",
    "Regarding the file formats, the knowledge and experiments have the following format (columns enumerated):\n",
    "\n",
    "1. Gene/protein ID (ENSP for proteins, other IDs for ncRNAs)\n",
    "2. Human readable name for the gene/protein (HGNC gene symbol when available)\n",
    "3. Brenda Tissue Ontology term\n",
    "4. Human readable name for the BTO term\n",
    "5. Source of evidence\n",
    "6. Association support (can be a GO evidence code, number of ESTs, anything - the original evidence)\n",
    "7. Confidence score (the score which is shown as stars in the web interface (rounded up on web pages))\n",
    "\n",
    "The textmining files are a bit different; the first four columns are the same, followed by:\n",
    "5. Co-occurrence Z-score\n",
    "6. Confidence score (stars, comparable to other files)\n",
    "7. Linkout for showing the abstracts that the association is based on\n"
   ]
  },
  {
   "cell_type": "markdown",
   "metadata": {},
   "source": [
    "## textmining dataset"
   ]
  },
  {
   "cell_type": "code",
   "execution_count": 25,
   "metadata": {
    "collapsed": false
   },
   "outputs": [
    {
     "data": {
      "text/html": [
       "<div>\n",
       "<table border=\"1\" class=\"dataframe\">\n",
       "  <thead>\n",
       "    <tr style=\"text-align: right;\">\n",
       "      <th></th>\n",
       "      <th>ensembl_protein_id</th>\n",
       "      <th>gene_symbol</th>\n",
       "      <th>bto_id</th>\n",
       "      <th>bto_name</th>\n",
       "      <th>z-score</th>\n",
       "      <th>score</th>\n",
       "      <th>sources</th>\n",
       "    </tr>\n",
       "  </thead>\n",
       "  <tbody>\n",
       "    <tr>\n",
       "      <th>0</th>\n",
       "      <td>5S_rRNA</td>\n",
       "      <td>5S_rRNA</td>\n",
       "      <td>BTO:0001481</td>\n",
       "      <td>Plant</td>\n",
       "      <td>4.614</td>\n",
       "      <td>2.3</td>\n",
       "      <td>http://tissues.jensenlab.org/Entity?documents=...</td>\n",
       "    </tr>\n",
       "    <tr>\n",
       "      <th>1</th>\n",
       "      <td>5S_rRNA</td>\n",
       "      <td>5S_rRNA</td>\n",
       "      <td>BTO:0000000</td>\n",
       "      <td>tissues, cell types and enzyme sources</td>\n",
       "      <td>4.531</td>\n",
       "      <td>2.3</td>\n",
       "      <td>http://tissues.jensenlab.org/Entity?documents=...</td>\n",
       "    </tr>\n",
       "    <tr>\n",
       "      <th>2</th>\n",
       "      <td>5S_rRNA</td>\n",
       "      <td>5S_rRNA</td>\n",
       "      <td>BTO:0000964</td>\n",
       "      <td>BTO:0000964</td>\n",
       "      <td>4.286</td>\n",
       "      <td>2.1</td>\n",
       "      <td>http://tissues.jensenlab.org/Entity?documents=...</td>\n",
       "    </tr>\n",
       "    <tr>\n",
       "      <th>3</th>\n",
       "      <td>5S_rRNA</td>\n",
       "      <td>5S_rRNA</td>\n",
       "      <td>BTO:0002502</td>\n",
       "      <td>Kinetoplastid</td>\n",
       "      <td>4.150</td>\n",
       "      <td>2.1</td>\n",
       "      <td>http://tissues.jensenlab.org/Entity?documents=...</td>\n",
       "    </tr>\n",
       "    <tr>\n",
       "      <th>4</th>\n",
       "      <td>5S_rRNA</td>\n",
       "      <td>5S_rRNA</td>\n",
       "      <td>BTO:0004669</td>\n",
       "      <td>Finger</td>\n",
       "      <td>4.059</td>\n",
       "      <td>2.0</td>\n",
       "      <td>http://tissues.jensenlab.org/Entity?documents=...</td>\n",
       "    </tr>\n",
       "  </tbody>\n",
       "</table>\n",
       "</div>"
      ],
      "text/plain": [
       "  ensembl_protein_id gene_symbol       bto_id  \\\n",
       "0            5S_rRNA     5S_rRNA  BTO:0001481   \n",
       "1            5S_rRNA     5S_rRNA  BTO:0000000   \n",
       "2            5S_rRNA     5S_rRNA  BTO:0000964   \n",
       "3            5S_rRNA     5S_rRNA  BTO:0002502   \n",
       "4            5S_rRNA     5S_rRNA  BTO:0004669   \n",
       "\n",
       "                                 bto_name  z-score  score  \\\n",
       "0                                   Plant    4.614    2.3   \n",
       "1  tissues, cell types and enzyme sources    4.531    2.3   \n",
       "2                             BTO:0000964    4.286    2.1   \n",
       "3                           Kinetoplastid    4.150    2.1   \n",
       "4                                  Finger    4.059    2.0   \n",
       "\n",
       "                                             sources  \n",
       "0  http://tissues.jensenlab.org/Entity?documents=...  \n",
       "1  http://tissues.jensenlab.org/Entity?documents=...  \n",
       "2  http://tissues.jensenlab.org/Entity?documents=...  \n",
       "3  http://tissues.jensenlab.org/Entity?documents=...  \n",
       "4  http://tissues.jensenlab.org/Entity?documents=...  "
      ]
     },
     "execution_count": 25,
     "metadata": {},
     "output_type": "execute_result"
    }
   ],
   "source": [
    "column_names = ['ensembl_protein_id', 'gene_symbol', 'bto_id', 'bto_name', 'z-score', 'score', 'sources']\n",
    "text_df = pandas.read_table('download/human_tissue_textmining_full.tsv.gz', names=column_names)\n",
    "text_df.head()"
   ]
  },
  {
   "cell_type": "markdown",
   "metadata": {},
   "source": [
    "## knowledge dataset"
   ]
  },
  {
   "cell_type": "code",
   "execution_count": 12,
   "metadata": {
    "collapsed": false
   },
   "outputs": [
    {
     "data": {
      "text/html": [
       "<div>\n",
       "<table border=\"1\" class=\"dataframe\">\n",
       "  <thead>\n",
       "    <tr style=\"text-align: right;\">\n",
       "      <th></th>\n",
       "      <th>ensembl_id</th>\n",
       "      <th>gene_symbol</th>\n",
       "      <th>bto_id</th>\n",
       "      <th>bto_name</th>\n",
       "      <th>source</th>\n",
       "      <th>evidence</th>\n",
       "      <th>score</th>\n",
       "    </tr>\n",
       "  </thead>\n",
       "  <tbody>\n",
       "    <tr>\n",
       "      <th>0</th>\n",
       "      <td>ENSP00000000233</td>\n",
       "      <td>ARF5</td>\n",
       "      <td>BTO:0000000</td>\n",
       "      <td>tissues, cell types and enzyme sources</td>\n",
       "      <td>UniProtKB-RC</td>\n",
       "      <td>CURATED</td>\n",
       "      <td>4</td>\n",
       "    </tr>\n",
       "    <tr>\n",
       "      <th>1</th>\n",
       "      <td>ENSP00000000233</td>\n",
       "      <td>ARF5</td>\n",
       "      <td>BTO:0000000</td>\n",
       "      <td>tissues, cell types and enzyme sources</td>\n",
       "      <td>UniProtKB-RC</td>\n",
       "      <td>CURATED</td>\n",
       "      <td>4</td>\n",
       "    </tr>\n",
       "    <tr>\n",
       "      <th>2</th>\n",
       "      <td>ENSP00000000233</td>\n",
       "      <td>ARF5</td>\n",
       "      <td>BTO:0000042</td>\n",
       "      <td>Animalic</td>\n",
       "      <td>UniProtKB-RC</td>\n",
       "      <td>CURATED</td>\n",
       "      <td>4</td>\n",
       "    </tr>\n",
       "    <tr>\n",
       "      <th>3</th>\n",
       "      <td>ENSP00000000233</td>\n",
       "      <td>ARF5</td>\n",
       "      <td>BTO:0000042</td>\n",
       "      <td>Animalic</td>\n",
       "      <td>UniProtKB-RC</td>\n",
       "      <td>CURATED</td>\n",
       "      <td>4</td>\n",
       "    </tr>\n",
       "    <tr>\n",
       "      <th>4</th>\n",
       "      <td>ENSP00000000233</td>\n",
       "      <td>ARF5</td>\n",
       "      <td>BTO:0000081</td>\n",
       "      <td>Reproductive system</td>\n",
       "      <td>UniProtKB-RC</td>\n",
       "      <td>CURATED</td>\n",
       "      <td>4</td>\n",
       "    </tr>\n",
       "  </tbody>\n",
       "</table>\n",
       "</div>"
      ],
      "text/plain": [
       "        ensembl_id gene_symbol       bto_id  \\\n",
       "0  ENSP00000000233        ARF5  BTO:0000000   \n",
       "1  ENSP00000000233        ARF5  BTO:0000000   \n",
       "2  ENSP00000000233        ARF5  BTO:0000042   \n",
       "3  ENSP00000000233        ARF5  BTO:0000042   \n",
       "4  ENSP00000000233        ARF5  BTO:0000081   \n",
       "\n",
       "                                 bto_name        source evidence  score  \n",
       "0  tissues, cell types and enzyme sources  UniProtKB-RC  CURATED      4  \n",
       "1  tissues, cell types and enzyme sources  UniProtKB-RC  CURATED      4  \n",
       "2                                Animalic  UniProtKB-RC  CURATED      4  \n",
       "3                                Animalic  UniProtKB-RC  CURATED      4  \n",
       "4                     Reproductive system  UniProtKB-RC  CURATED      4  "
      ]
     },
     "execution_count": 12,
     "metadata": {},
     "output_type": "execute_result"
    }
   ],
   "source": [
    "column_names = ['ensembl_protein_id', 'gene_symbol', 'bto_id', 'bto_name', 'source', 'evidence', 'score']\n",
    "knowledge_df = pandas.read_table('download/human_tissue_knowledge_full.tsv.gz', names=column_names)\n",
    "knowledge_df.head()"
   ]
  },
  {
   "cell_type": "markdown",
   "metadata": {
    "collapsed": true
   },
   "source": [
    "## experimental dataset"
   ]
  },
  {
   "cell_type": "code",
   "execution_count": 13,
   "metadata": {
    "collapsed": false
   },
   "outputs": [
    {
     "data": {
      "text/html": [
       "<div>\n",
       "<table border=\"1\" class=\"dataframe\">\n",
       "  <thead>\n",
       "    <tr style=\"text-align: right;\">\n",
       "      <th></th>\n",
       "      <th>ensembl_id</th>\n",
       "      <th>gene_symbol</th>\n",
       "      <th>bto_id</th>\n",
       "      <th>bto_name</th>\n",
       "      <th>source</th>\n",
       "      <th>evidence</th>\n",
       "      <th>score</th>\n",
       "    </tr>\n",
       "  </thead>\n",
       "  <tbody>\n",
       "    <tr>\n",
       "      <th>0</th>\n",
       "      <td>ENSP00000000233</td>\n",
       "      <td>ARF5</td>\n",
       "      <td>BTO:0000000</td>\n",
       "      <td>tissues, cell types and enzyme sources</td>\n",
       "      <td>Exon array</td>\n",
       "      <td>411 intensity units</td>\n",
       "      <td>1</td>\n",
       "    </tr>\n",
       "    <tr>\n",
       "      <th>1</th>\n",
       "      <td>ENSP00000000233</td>\n",
       "      <td>ARF5</td>\n",
       "      <td>BTO:0000000</td>\n",
       "      <td>tissues, cell types and enzyme sources</td>\n",
       "      <td>GNF</td>\n",
       "      <td>103 Intensity units</td>\n",
       "      <td>0</td>\n",
       "    </tr>\n",
       "    <tr>\n",
       "      <th>2</th>\n",
       "      <td>ENSP00000000233</td>\n",
       "      <td>ARF5</td>\n",
       "      <td>BTO:0000000</td>\n",
       "      <td>tissues, cell types and enzyme sources</td>\n",
       "      <td>HPA-RNA</td>\n",
       "      <td>61.1 FPKM</td>\n",
       "      <td>1</td>\n",
       "    </tr>\n",
       "    <tr>\n",
       "      <th>3</th>\n",
       "      <td>ENSP00000000233</td>\n",
       "      <td>ARF5</td>\n",
       "      <td>BTO:0000000</td>\n",
       "      <td>tissues, cell types and enzyme sources</td>\n",
       "      <td>HPM</td>\n",
       "      <td>6 peptides</td>\n",
       "      <td>0</td>\n",
       "    </tr>\n",
       "    <tr>\n",
       "      <th>4</th>\n",
       "      <td>ENSP00000000233</td>\n",
       "      <td>ARF5</td>\n",
       "      <td>BTO:0000000</td>\n",
       "      <td>tissues, cell types and enzyme sources</td>\n",
       "      <td>RNA-seq</td>\n",
       "      <td>2.156 RPKM</td>\n",
       "      <td>0</td>\n",
       "    </tr>\n",
       "  </tbody>\n",
       "</table>\n",
       "</div>"
      ],
      "text/plain": [
       "        ensembl_id gene_symbol       bto_id  \\\n",
       "0  ENSP00000000233        ARF5  BTO:0000000   \n",
       "1  ENSP00000000233        ARF5  BTO:0000000   \n",
       "2  ENSP00000000233        ARF5  BTO:0000000   \n",
       "3  ENSP00000000233        ARF5  BTO:0000000   \n",
       "4  ENSP00000000233        ARF5  BTO:0000000   \n",
       "\n",
       "                                 bto_name      source             evidence  \\\n",
       "0  tissues, cell types and enzyme sources  Exon array  411 intensity units   \n",
       "1  tissues, cell types and enzyme sources         GNF  103 Intensity units   \n",
       "2  tissues, cell types and enzyme sources     HPA-RNA            61.1 FPKM   \n",
       "3  tissues, cell types and enzyme sources         HPM           6 peptides   \n",
       "4  tissues, cell types and enzyme sources     RNA-seq           2.156 RPKM   \n",
       "\n",
       "   score  \n",
       "0      1  \n",
       "1      0  \n",
       "2      1  \n",
       "3      0  \n",
       "4      0  "
      ]
     },
     "execution_count": 13,
     "metadata": {},
     "output_type": "execute_result"
    }
   ],
   "source": [
    "column_names = ['ensembl_protein_id', 'gene_symbol', 'bto_id', 'bto_name', 'source', 'evidence', 'score']\n",
    "experiment_df = pandas.read_table('download/human_tissue_experiments_full.tsv.gz', names=column_names)\n",
    "experiment_df.head()"
   ]
  },
  {
   "cell_type": "code",
   "execution_count": 14,
   "metadata": {
    "collapsed": false
   },
   "outputs": [],
   "source": [
    "experiment_summary_df = experiment_df.groupby(['ensembl_id', 'bto_id']).apply(\n",
    "    lambda df: pandas.Series({\n",
    "        'count': len(df),\n",
    "        'mean_score': df.score.mean(),\n",
    "        'n_3star': sum(df.score >= 3)\n",
    "    }))"
   ]
  },
  {
   "cell_type": "code",
   "execution_count": 15,
   "metadata": {
    "collapsed": false
   },
   "outputs": [
    {
     "data": {
      "text/html": [
       "<div>\n",
       "<table border=\"1\" class=\"dataframe\">\n",
       "  <thead>\n",
       "    <tr style=\"text-align: right;\">\n",
       "      <th></th>\n",
       "      <th></th>\n",
       "      <th>count</th>\n",
       "      <th>mean_score</th>\n",
       "      <th>n_3star</th>\n",
       "    </tr>\n",
       "    <tr>\n",
       "      <th>ensembl_id</th>\n",
       "      <th>bto_id</th>\n",
       "      <th></th>\n",
       "      <th></th>\n",
       "      <th></th>\n",
       "    </tr>\n",
       "  </thead>\n",
       "  <tbody>\n",
       "    <tr>\n",
       "      <th rowspan=\"5\" valign=\"top\">ENSP00000000233</th>\n",
       "      <th>BTO:0000000</th>\n",
       "      <td>6</td>\n",
       "      <td>1.000000</td>\n",
       "      <td>1</td>\n",
       "    </tr>\n",
       "    <tr>\n",
       "      <th>BTO:0000041</th>\n",
       "      <td>1</td>\n",
       "      <td>0.000000</td>\n",
       "      <td>0</td>\n",
       "    </tr>\n",
       "    <tr>\n",
       "      <th>BTO:0000042</th>\n",
       "      <td>6</td>\n",
       "      <td>1.000000</td>\n",
       "      <td>1</td>\n",
       "    </tr>\n",
       "    <tr>\n",
       "      <th>BTO:0000045</th>\n",
       "      <td>1</td>\n",
       "      <td>0.000000</td>\n",
       "      <td>0</td>\n",
       "    </tr>\n",
       "    <tr>\n",
       "      <th>BTO:0000047</th>\n",
       "      <td>3</td>\n",
       "      <td>0.333333</td>\n",
       "      <td>0</td>\n",
       "    </tr>\n",
       "  </tbody>\n",
       "</table>\n",
       "</div>"
      ],
      "text/plain": [
       "                             count  mean_score  n_3star\n",
       "ensembl_id      bto_id                                 \n",
       "ENSP00000000233 BTO:0000000      6    1.000000        1\n",
       "                BTO:0000041      1    0.000000        0\n",
       "                BTO:0000042      6    1.000000        1\n",
       "                BTO:0000045      1    0.000000        0\n",
       "                BTO:0000047      3    0.333333        0"
      ]
     },
     "execution_count": 15,
     "metadata": {},
     "output_type": "execute_result"
    }
   ],
   "source": [
    "experiment_summary_df.head()"
   ]
  },
  {
   "cell_type": "markdown",
   "metadata": {},
   "source": [
    "## integrated dataset\n",
    "\n",
    "Correspondence from Lars Juhl Jensen:\n",
    "\n",
    "> If you go to download.jensenlab.org, you will find that there is also a file called human_tissue_integrated_full.tsv - it is a combined evidence score based on all available evidence. The first four columns are as in the other files; the fifth column contains the combined star confidence score. This file is not yet available via the download webpage, and the scores are not yet used in the web interface. You are welcome to experiment with it if you like, but please bear in mind that this is a test at this stage."
   ]
  },
  {
   "cell_type": "code",
   "execution_count": 40,
   "metadata": {
    "collapsed": false,
    "scrolled": false
   },
   "outputs": [
    {
     "data": {
      "text/html": [
       "<div>\n",
       "<table border=\"1\" class=\"dataframe\">\n",
       "  <thead>\n",
       "    <tr style=\"text-align: right;\">\n",
       "      <th></th>\n",
       "      <th>entrez_gene_id</th>\n",
       "      <th>uberon_id</th>\n",
       "      <th>score</th>\n",
       "    </tr>\n",
       "  </thead>\n",
       "  <tbody>\n",
       "    <tr>\n",
       "      <th>0</th>\n",
       "      <td>1</td>\n",
       "      <td>UBERON:0000017</td>\n",
       "      <td>0.9</td>\n",
       "    </tr>\n",
       "    <tr>\n",
       "      <th>1</th>\n",
       "      <td>1</td>\n",
       "      <td>UBERON:0000020</td>\n",
       "      <td>2.1</td>\n",
       "    </tr>\n",
       "    <tr>\n",
       "      <th>2</th>\n",
       "      <td>1</td>\n",
       "      <td>UBERON:0000026</td>\n",
       "      <td>1.3</td>\n",
       "    </tr>\n",
       "    <tr>\n",
       "      <th>3</th>\n",
       "      <td>1</td>\n",
       "      <td>UBERON:0000029</td>\n",
       "      <td>0.6</td>\n",
       "    </tr>\n",
       "    <tr>\n",
       "      <th>4</th>\n",
       "      <td>1</td>\n",
       "      <td>UBERON:0000033</td>\n",
       "      <td>2.5</td>\n",
       "    </tr>\n",
       "  </tbody>\n",
       "</table>\n",
       "</div>"
      ],
      "text/plain": [
       "   entrez_gene_id       uberon_id  score\n",
       "0               1  UBERON:0000017    0.9\n",
       "1               1  UBERON:0000020    2.1\n",
       "2               1  UBERON:0000026    1.3\n",
       "3               1  UBERON:0000029    0.6\n",
       "4               1  UBERON:0000033    2.5"
      ]
     },
     "execution_count": 40,
     "metadata": {},
     "output_type": "execute_result"
    }
   ],
   "source": [
    "# read dataframe from file\n",
    "column_names = ['ensembl_protein_id', 'gene_symbol', 'bto_id', 'bto_name', 'score']\n",
    "integrated_df = pandas.read_table('download/human_tissue_integrated_full.tsv.gz', names=column_names)\n",
    "integrated_df.head()\n",
    "\n",
    "# convert to Uberon and Entrez Gene identifiers\n",
    "integrated_df = map_ensembl(integrated_df.ensembl_protein_id).merge(integrated_df).merge(uberon_map_df)\n",
    "integrated_df = integrated_df.groupby(['entrez_gene_id', 'uberon_id'])['score'].mean().reset_index()\n",
    "integrated_df.head()"
   ]
  },
  {
   "cell_type": "code",
   "execution_count": 50,
   "metadata": {
    "collapsed": false
   },
   "outputs": [],
   "source": [
    "# Save as a tsv\n",
    "with gzip.open('data/integrated.tsv.gz', 'wt') as write_file:\n",
    "    integrated_df.to_csv(write_file, sep='\\t', index=False)"
   ]
  },
  {
   "cell_type": "code",
   "execution_count": 55,
   "metadata": {
    "collapsed": false
   },
   "outputs": [
    {
     "data": {
      "image/png": "[encoded data removed]",
      "text/plain": [
       "<matplotlib.figure.Figure at 0x7fb9d8a578d0>"
      ]
     },
     "metadata": {},
     "output_type": "display_data"
    }
   ],
   "source": [
    "# Plot score distribution\n",
    "seaborn.distplot(integrated_df['score'], kde=False);"
   ]
  }
 ],
 "metadata": {
  "kernelspec": {
   "display_name": "Python 3",
   "language": "python",
   "name": "python3"
  },
  "language_info": {
   "codemirror_mode": {
    "name": "ipython",
    "version": 3
   },
   "file_extension": ".py",
   "mimetype": "text/x-python",
   "name": "python",
   "nbconvert_exporter": "python",
   "pygments_lexer": "ipython3",
   "version": "3.4.3"
  }
 },
 "nbformat": 4,
 "nbformat_minor": 0
}
